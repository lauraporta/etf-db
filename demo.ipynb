{
 "metadata": {
  "language_info": {
   "codemirror_mode": {
    "name": "ipython",
    "version": 3
   },
   "file_extension": ".py",
   "mimetype": "text/x-python",
   "name": "python",
   "nbconvert_exporter": "python",
   "pygments_lexer": "ipython3",
   "version": "3.7.7-final"
  },
  "orig_nbformat": 2,
  "kernelspec": {
   "name": "python3",
   "display_name": "Python 3.7.7 64-bit",
   "metadata": {
    "interpreter": {
     "hash": "4cd7ab41f5fca4b9b44701077e38c5ffd31fe66a6cab21e0214b68d958d0e462"
    }
   }
  }
 },
 "nbformat": 4,
 "nbformat_minor": 2,
 "cells": [
  {
   "cell_type": "code",
   "execution_count": 1,
   "metadata": {},
   "outputs": [
    {
     "output_type": "stream",
     "name": "stdout",
     "text": [
      "Download  . . . . . . . . . . . . \n",
      "Starting cleaning process\n"
     ]
    },
    {
     "output_type": "execute_result",
     "data": {
      "text/plain": [
       "  symbol                             name  \\\n",
       "0    SPY                 SPDR S&P 500 ETF   \n",
       "1    IVV         iShares Core S&P 500 ETF   \n",
       "2    VTI  Vanguard Total Stock Market ETF   \n",
       "3    VOO             Vanguard S&P 500 ETF   \n",
       "4    QQQ                      Invesco QQQ   \n",
       "\n",
       "                            mobile_title   price    assets  average_volume  \\\n",
       "0                 SPY - SPDR S&P 500 ETF  390.72  340295.0      63066805.0   \n",
       "1         IVV - iShares Core S&P 500 ETF  392.25  254584.0       4040147.0   \n",
       "2  VTI - Vanguard Total Stock Market ETF  205.50  219219.0       4078445.0   \n",
       "3             VOO - Vanguard S&P 500 ETF  359.25  199296.0       3021663.0   \n",
       "4                      QQQ - Invesco QQQ  332.47  159866.0      28404027.0   \n",
       "\n",
       "    ytd  overall_rating asset_class  fifty_two_week  ...  tax_form  \\\n",
       "0  4.50             NaN      Equity           17.64  ...      1099   \n",
       "1  4.49             NaN      Equity           17.66  ...      1099   \n",
       "2  5.58             NaN      Equity           21.48  ...      1099   \n",
       "3  4.53             NaN      Equity           17.67  ...      1099   \n",
       "4  5.97             NaN      Equity           41.30  ...      1099   \n",
       "\n",
       "   lower_bollinger  realtime_volatility  resistance_level_1  rsi_20_day  \\\n",
       "0           372.63                  NaN              392.24       62.18   \n",
       "1           374.25                  NaN              393.76       62.29   \n",
       "2           194.74                  NaN              206.39       62.86   \n",
       "3           342.72                  NaN              360.62       62.27   \n",
       "4           317.93                  NaN              334.77       60.60   \n",
       "\n",
       "   support_level_1  upper_bollinger  realtime_expenses  realtime_liquidity  \\\n",
       "0           388.47           396.86                  A                  A+   \n",
       "1           389.98           398.17                  A                   A   \n",
       "2           204.31           209.79                  A                   A   \n",
       "3           357.18           364.86                  A                   A   \n",
       "4           329.26           339.15                 B+                   A   \n",
       "\n",
       "   realtime_overall  \n",
       "0               NaN  \n",
       "1               NaN  \n",
       "2               NaN  \n",
       "3               NaN  \n",
       "4               NaN  \n",
       "\n",
       "[5 rows x 59 columns]"
      ],
      "text/html": "<div>\n<style scoped>\n    .dataframe tbody tr th:only-of-type {\n        vertical-align: middle;\n    }\n\n    .dataframe tbody tr th {\n        vertical-align: top;\n    }\n\n    .dataframe thead th {\n        text-align: right;\n    }\n</style>\n<table border=\"1\" class=\"dataframe\">\n  <thead>\n    <tr style=\"text-align: right;\">\n      <th></th>\n      <th>symbol</th>\n      <th>name</th>\n      <th>mobile_title</th>\n      <th>price</th>\n      <th>assets</th>\n      <th>average_volume</th>\n      <th>ytd</th>\n      <th>overall_rating</th>\n      <th>asset_class</th>\n      <th>fifty_two_week</th>\n      <th>...</th>\n      <th>tax_form</th>\n      <th>lower_bollinger</th>\n      <th>realtime_volatility</th>\n      <th>resistance_level_1</th>\n      <th>rsi_20_day</th>\n      <th>support_level_1</th>\n      <th>upper_bollinger</th>\n      <th>realtime_expenses</th>\n      <th>realtime_liquidity</th>\n      <th>realtime_overall</th>\n    </tr>\n  </thead>\n  <tbody>\n    <tr>\n      <th>0</th>\n      <td>SPY</td>\n      <td>SPDR S&amp;P 500 ETF</td>\n      <td>SPY - SPDR S&amp;P 500 ETF</td>\n      <td>390.72</td>\n      <td>340295.0</td>\n      <td>63066805.0</td>\n      <td>4.50</td>\n      <td>NaN</td>\n      <td>Equity</td>\n      <td>17.64</td>\n      <td>...</td>\n      <td>1099</td>\n      <td>372.63</td>\n      <td>NaN</td>\n      <td>392.24</td>\n      <td>62.18</td>\n      <td>388.47</td>\n      <td>396.86</td>\n      <td>A</td>\n      <td>A+</td>\n      <td>NaN</td>\n    </tr>\n    <tr>\n      <th>1</th>\n      <td>IVV</td>\n      <td>iShares Core S&amp;P 500 ETF</td>\n      <td>IVV - iShares Core S&amp;P 500 ETF</td>\n      <td>392.25</td>\n      <td>254584.0</td>\n      <td>4040147.0</td>\n      <td>4.49</td>\n      <td>NaN</td>\n      <td>Equity</td>\n      <td>17.66</td>\n      <td>...</td>\n      <td>1099</td>\n      <td>374.25</td>\n      <td>NaN</td>\n      <td>393.76</td>\n      <td>62.29</td>\n      <td>389.98</td>\n      <td>398.17</td>\n      <td>A</td>\n      <td>A</td>\n      <td>NaN</td>\n    </tr>\n    <tr>\n      <th>2</th>\n      <td>VTI</td>\n      <td>Vanguard Total Stock Market ETF</td>\n      <td>VTI - Vanguard Total Stock Market ETF</td>\n      <td>205.50</td>\n      <td>219219.0</td>\n      <td>4078445.0</td>\n      <td>5.58</td>\n      <td>NaN</td>\n      <td>Equity</td>\n      <td>21.48</td>\n      <td>...</td>\n      <td>1099</td>\n      <td>194.74</td>\n      <td>NaN</td>\n      <td>206.39</td>\n      <td>62.86</td>\n      <td>204.31</td>\n      <td>209.79</td>\n      <td>A</td>\n      <td>A</td>\n      <td>NaN</td>\n    </tr>\n    <tr>\n      <th>3</th>\n      <td>VOO</td>\n      <td>Vanguard S&amp;P 500 ETF</td>\n      <td>VOO - Vanguard S&amp;P 500 ETF</td>\n      <td>359.25</td>\n      <td>199296.0</td>\n      <td>3021663.0</td>\n      <td>4.53</td>\n      <td>NaN</td>\n      <td>Equity</td>\n      <td>17.67</td>\n      <td>...</td>\n      <td>1099</td>\n      <td>342.72</td>\n      <td>NaN</td>\n      <td>360.62</td>\n      <td>62.27</td>\n      <td>357.18</td>\n      <td>364.86</td>\n      <td>A</td>\n      <td>A</td>\n      <td>NaN</td>\n    </tr>\n    <tr>\n      <th>4</th>\n      <td>QQQ</td>\n      <td>Invesco QQQ</td>\n      <td>QQQ - Invesco QQQ</td>\n      <td>332.47</td>\n      <td>159866.0</td>\n      <td>28404027.0</td>\n      <td>5.97</td>\n      <td>NaN</td>\n      <td>Equity</td>\n      <td>41.30</td>\n      <td>...</td>\n      <td>1099</td>\n      <td>317.93</td>\n      <td>NaN</td>\n      <td>334.77</td>\n      <td>60.60</td>\n      <td>329.26</td>\n      <td>339.15</td>\n      <td>B+</td>\n      <td>A</td>\n      <td>NaN</td>\n    </tr>\n  </tbody>\n</table>\n<p>5 rows × 59 columns</p>\n</div>"
     },
     "metadata": {},
     "execution_count": 1
    }
   ],
   "source": [
    "import etf_db as etf\n",
    "import etf_analysis as etfa\n",
    "\n",
    "data = etf.download_clean_public_data()\n",
    "data.head()"
   ]
  },
  {
   "cell_type": "code",
   "execution_count": null,
   "metadata": {},
   "outputs": [],
   "source": []
  }
 ]
}